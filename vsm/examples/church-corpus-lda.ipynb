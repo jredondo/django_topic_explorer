{
 "metadata": {
  "name": "",
  "signature": "sha256:f205b549386c42b5f3a6c46e46fc23cc150019c0881c30a371fb09105fe87560"
 },
 "nbformat": 3,
 "nbformat_minor": 0,
 "worksheets": [
  {
   "cells": [
    {
     "cell_type": "code",
     "collapsed": false,
     "input": [
      "from vsm import *\n",
      "from vsm.extensions.corpusbuilders import toy_corpus\n",
      "\n",
      "\n",
      "plain_corpus = \"\"\"\n",
      "His theology challenged the Pope of the Roman Catholic Church by\n",
      "teaching that the Bible is the only source of divinely revealed\n",
      "knowledge.\n",
      "\n",
      "Augustine is held in the Catholic Church to be the model teacher.\n",
      "\n",
      "Augustine was recognized as a Doctor of the Church by Pope Boniface\n",
      "VIII.\n",
      "\n",
      "Roman Catholic theology stated that faith alone cannot justify man.\n",
      "\n",
      "In the Catholic Church the Pope is regarded as the successor of Saint\n",
      "Peter.\n",
      "\n",
      "Alonzo Church was an American mathematician and logician who made\n",
      "major contributions to mathematical logic and the foundations of\n",
      "theoretical computer science.\n",
      "\n",
      "The lambda calculus was introduced by mathematician Alonzo Church as\n",
      "an investigation into the foundations of mathematics.\n",
      "\n",
      "The Church Turing thesis states that a function is algorithmically\n",
      "computable if and only if it is computable by a Turing machine.\n",
      "\n",
      "Mathematical logic has close connections to the foundations of\n",
      "mathematics, theoretical computer science.\n",
      "\n",
      "A Turing machine can be adapted to simulate the logic of any computer\n",
      "algorithm.\n",
      "\"\"\"\n",
      "\n",
      "metadata = ['Ecclesiastical ' + str(i) for i in xrange(1, 6)]\n",
      "\n",
      "metadata += ['Logic ' + str(i) for i in xrange(1, 6)]\n",
      "\n",
      "c = toy_corpus(plain_corpus, nltk_stop=True, metadata=metadata)\n",
      "\n",
      "m = LDA(c, context_type='document', K=2)\n",
      "\n",
      "m.train(n_iterations=200)\n",
      "\n",
      "v = LdaCgsViewer(c, m)"
     ],
     "language": "python",
     "metadata": {},
     "outputs": [
      {
       "output_type": "stream",
       "stream": "stdout",
       "text": [
        "Begin LDA training for 200 iterations\n",
        "Iteration 199 complete: log_prob=-292.814182029, time=0.0"
       ]
      },
      {
       "output_type": "stream",
       "stream": "stdout",
       "text": [
        "\n"
       ]
      }
     ],
     "prompt_number": 3
    },
    {
     "cell_type": "code",
     "collapsed": false,
     "input": [
      "v.topics(compact_view=False)"
     ],
     "language": "python",
     "metadata": {},
     "outputs": [
      {
       "html": [
        "<table><tr><th style=\"text-align: center; background: #A9D0F5;            fontsize: 14px;\" colspan=\"6\"> Topics Sorted by Index </th></tr><tr><th style=\"text-align: center; background: #CEE3F6;\"                 colspan=\"2\">Topic 0</th><th style=\"text-align: center; background: #CEE3F6;\"                 colspan=\"2\">Topic 1</th></tr><tr><th style=\"text-align: center; background: #EFF2FB;\">                        Word</th><th style=\"text-align: center; background: #EFF2FB;\">                        Prob</th><th style=\"text-align: center; background: #EFF2FB;\">                        Word</th><th style=\"text-align: center; background: #EFF2FB;\">                        Prob</th></tr><tr><td>logic</td><td>0.06070</td><td>catholic</td><td>0.09879</td></tr><tr><td>turing</td><td>0.06070</td><td>church</td><td>0.09879</td></tr><tr><td>foundations</td><td>0.06070</td><td>pope</td><td>0.07416</td></tr><tr><td>church</td><td>0.06070</td><td>theology</td><td>0.04952</td></tr><tr><td>computer</td><td>0.06070</td><td>augustine</td><td>0.04952</td></tr><tr><td>computable</td><td>0.04053</td><td>roman</td><td>0.04952</td></tr><tr><td>mathematical</td><td>0.04053</td><td>model</td><td>0.02488</td></tr><tr><td>mathematician</td><td>0.04053</td><td>man</td><td>0.02488</td></tr><tr><td>mathematics</td><td>0.04053</td><td>bible</td><td>0.02488</td></tr><tr><td>science</td><td>0.04053</td><td>boniface</td><td>0.02488</td></tr></table>"
       ],
       "metadata": {},
       "output_type": "pyout",
       "prompt_number": 4,
       "text": [
        "[LabeledColumn([('logic', 0.06069772131478124), ('turing', 0.06069772131478124),\n",
        "        ('foundations', 0.06069772131478124),\n",
        "        ('church', 0.06069772131478124), ('computer', 0.06069772131478124),\n",
        "        ('computable', 0.04053236539624926),\n",
        "        ('mathematical', 0.04053236539624926),\n",
        "        ('mathematician', 0.04053236539624926),\n",
        "        ('mathematics', 0.04053236539624926),\n",
        "        ('science', 0.04053236539624926), ('machine', 0.04053236539624926),\n",
        "        ('alonzo', 0.04053236539624926),\n",
        "        ('theoretical', 0.04053236539624926),\n",
        "        ('close', 0.020367009477717295), ('calculus', 0.020367009477717295),\n",
        "        ('made', 0.020367009477717295),\n",
        "        ('contributions', 0.020367009477717295),\n",
        "        ('american', 0.020367009477717295),\n",
        "        ('function', 0.020367009477717295),\n",
        "        ('introduced', 0.020367009477717295),\n",
        "        ('investigation', 0.020367009477717295),\n",
        "        ('lambda', 0.020367009477717295),\n",
        "        ('algorithmically', 0.020367009477717295),\n",
        "        ('algorithm', 0.020367009477717295),\n",
        "        ('logician', 0.020367009477717295),\n",
        "        ('connections', 0.020367009477717295),\n",
        "        ('adapted', 0.020367009477717295), ('major', 0.020367009477717295),\n",
        "        ('states', 0.020367009477717295), ('thesis', 0.020367009477717295),\n",
        "        ('simulate', 0.020367009477717295),\n",
        "        ('viii', 0.00020165355918531992),\n",
        "        ('catholic', 0.00020165355918531992),\n",
        "        ('successor', 0.00020165355918531992),\n",
        "        ('boniface', 0.00020165355918531992),\n",
        "        ('teacher', 0.00020165355918531992),\n",
        "        ('saint', 0.00020165355918531992),\n",
        "        ('doctor', 0.00020165355918531992),\n",
        "        ('model', 0.00020165355918531992),\n",
        "        ('regarded', 0.00020165355918531992),\n",
        "        ('held', 0.00020165355918531992),\n",
        "        ('recognized', 0.00020165355918531992),\n",
        "        ('pope', 0.00020165355918531992),\n",
        "        ('challenged', 0.00020165355918531992),\n",
        "        ('theology', 0.00020165355918531975),\n",
        "        ('alone', 0.00020165355918531975),\n",
        "        ('teaching', 0.00020165355918531975),\n",
        "        ('bible', 0.00020165355918531975),\n",
        "        ('knowledge', 0.00020165355918531975),\n",
        "        ('peter', 0.00020165355918531975),\n",
        "        ('justify', 0.00020165355918531975),\n",
        "        ('source', 0.00020165355918531975), ('man', 0.00020165355918531975),\n",
        "        ('roman', 0.00020165355918531975),\n",
        "        ('divinely', 0.00020165355918531975),\n",
        "        ('faith', 0.00020165355918531975),\n",
        "        ('revealed', 0.00020165355918531975),\n",
        "        ('stated', 0.00020165355918531975),\n",
        "        ('augustine', 0.00020165355918531544)], \n",
        "       dtype=[('word', '|S15'), ('value', '<f8')]),\n",
        " LabeledColumn([('catholic', 0.09879280610987926), ('church', 0.09879280610987926),\n",
        "        ('pope', 0.0741561961074156), ('theology', 0.04951958610495194),\n",
        "        ('augustine', 0.04951958610495194), ('roman', 0.04951958610495194),\n",
        "        ('model', 0.02488297610248829), ('man', 0.02488297610248829),\n",
        "        ('bible', 0.02488297610248829), ('boniface', 0.02488297610248829),\n",
        "        ('viii', 0.02488297610248829), ('challenged', 0.02488297610248829),\n",
        "        ('peter', 0.02488297610248829), ('justify', 0.02488297610248829),\n",
        "        ('held', 0.02488297610248829), ('faith', 0.02488297610248829),\n",
        "        ('doctor', 0.02488297610248829), ('divinely', 0.02488297610248829),\n",
        "        ('knowledge', 0.02488297610248829), ('alone', 0.02488297610248829),\n",
        "        ('recognized', 0.02488297610248829), ('saint', 0.02488297610248829),\n",
        "        ('teaching', 0.02488297610248829), ('teacher', 0.02488297610248829),\n",
        "        ('successor', 0.02488297610248829), ('source', 0.02488297610248829),\n",
        "        ('stated', 0.02488297610248829), ('revealed', 0.02488297610248829),\n",
        "        ('regarded', 0.02488297610248829),\n",
        "        ('algorithmically', 0.00024636610002463677),\n",
        "        ('calculus', 0.00024636610002463677),\n",
        "        ('simulate', 0.00024636610002463677),\n",
        "        ('states', 0.00024636610002463677),\n",
        "        ('introduced', 0.00024636610002463677),\n",
        "        ('function', 0.00024636610002463677),\n",
        "        ('thesis', 0.00024636610002463677),\n",
        "        ('connections', 0.00024636610002463656),\n",
        "        ('american', 0.00024636610002463656),\n",
        "        ('close', 0.00024636610002463656),\n",
        "        ('alonzo', 0.00024636610002463656),\n",
        "        ('algorithm', 0.00024636610002463656),\n",
        "        ('computer', 0.00024636610002463656),\n",
        "        ('logic', 0.00024636610002463656),\n",
        "        ('contributions', 0.00024636610002463656),\n",
        "        ('foundations', 0.00024636610002463656),\n",
        "        ('investigation', 0.00024636610002463656),\n",
        "        ('lambda', 0.00024636610002463656),\n",
        "        ('turing', 0.00024636610002463656),\n",
        "        ('logician', 0.00024636610002463656),\n",
        "        ('machine', 0.00024636610002463656),\n",
        "        ('made', 0.00024636610002463656), ('major', 0.00024636610002463656),\n",
        "        ('mathematical', 0.00024636610002463656),\n",
        "        ('mathematician', 0.00024636610002463656),\n",
        "        ('mathematics', 0.00024636610002463656),\n",
        "        ('science', 0.00024636610002463656),\n",
        "        ('theoretical', 0.00024636610002463656),\n",
        "        ('adapted', 0.00024636610002463656),\n",
        "        ('computable', 0.0002463661000246313)], \n",
        "       dtype=[('word', '|S15'), ('value', '<f8')])]"
       ]
      }
     ],
     "prompt_number": 4
    },
    {
     "cell_type": "code",
     "collapsed": false,
     "input": [
      "v.doc_topics(dict(document_label='Logic 1'))"
     ],
     "language": "python",
     "metadata": {},
     "outputs": [
      {
       "html": [
        "<table style=\"margin: 0\"><tr><th style=\"text-align: center; background: #CEE3F6\" colspan                    =\"2\">Document: Logic 1</th></tr><tr><th style=\"text-align: center; background: #EFF2FB; \">Topic                          </th><th style=\"text-align: center; background: #EFF2FB; \">Prob                          </th></tr><tr><td>0         </td><td>0.99929   </td></tr><tr><td>1         </td><td>0.00071   </td></tr></table>"
       ],
       "metadata": {},
       "output_type": "pyout",
       "prompt_number": 5,
       "text": [
        "LabeledColumn([(0, 0.9992867332382311), (1, 0.0007132667617689016)], \n",
        "      dtype=[('i', '<i8'), ('value', '<f8')])"
       ]
      }
     ],
     "prompt_number": 5
    },
    {
     "cell_type": "code",
     "collapsed": false,
     "input": [
      "v.dist_top_top([0,1], weights=[.6, .4])"
     ],
     "language": "python",
     "metadata": {},
     "outputs": [
      {
       "html": [
        "<table style=\"margin: 0\"><tr><th style=\"text-align: center; background: #CEE3F6\" colspan            =\"11\">Sorted by Topic Distance</th></tr><tr><th style=\"text-align: center; background: #EFF2FB;\"                     >Topic</th><th style=\"text-align: center; background: #EFF2FB;\"                     >Words</th></tr><tr><td style=\"padding-left:0.75em;\">0</td><td> logic, turing, foundations, church, computer, computable, mathematical, mathematician, mathematics, science          </td></tr><tr><td style=\"padding-left:0.75em;\">1</td><td> catholic, church, pope, theology, augustine, roman, model, man, bible, boniface         </td></tr></table>"
       ],
       "metadata": {},
       "output_type": "pyout",
       "prompt_number": 6,
       "text": [
        "CompactTable([[('logic', 0.06069772131478124), ('turing', 0.06069772131478124),\n",
        "        ('foundations', 0.06069772131478124),\n",
        "        ('church', 0.06069772131478124), ('computer', 0.06069772131478124),\n",
        "        ('computable', 0.04053236539624926),\n",
        "        ('mathematical', 0.04053236539624926),\n",
        "        ('mathematician', 0.04053236539624926),\n",
        "        ('mathematics', 0.04053236539624926),\n",
        "        ('science', 0.04053236539624926), ('machine', 0.04053236539624926),\n",
        "        ('alonzo', 0.04053236539624926),\n",
        "        ('theoretical', 0.04053236539624926),\n",
        "        ('close', 0.020367009477717295),\n",
        "        ('calculus', 0.020367009477717295), ('made', 0.020367009477717295),\n",
        "        ('contributions', 0.020367009477717295),\n",
        "        ('american', 0.020367009477717295),\n",
        "        ('function', 0.020367009477717295),\n",
        "        ('introduced', 0.020367009477717295),\n",
        "        ('investigation', 0.020367009477717295),\n",
        "        ('lambda', 0.020367009477717295),\n",
        "        ('algorithmically', 0.020367009477717295),\n",
        "        ('algorithm', 0.020367009477717295),\n",
        "        ('logician', 0.020367009477717295),\n",
        "        ('connections', 0.020367009477717295),\n",
        "        ('adapted', 0.020367009477717295), ('major', 0.020367009477717295),\n",
        "        ('states', 0.020367009477717295), ('thesis', 0.020367009477717295),\n",
        "        ('simulate', 0.020367009477717295),\n",
        "        ('viii', 0.00020165355918531992),\n",
        "        ('catholic', 0.00020165355918531992),\n",
        "        ('successor', 0.00020165355918531992),\n",
        "        ('boniface', 0.00020165355918531992),\n",
        "        ('teacher', 0.00020165355918531992),\n",
        "        ('saint', 0.00020165355918531992),\n",
        "        ('doctor', 0.00020165355918531992),\n",
        "        ('model', 0.00020165355918531992),\n",
        "        ('regarded', 0.00020165355918531992),\n",
        "        ('held', 0.00020165355918531992),\n",
        "        ('recognized', 0.00020165355918531992),\n",
        "        ('pope', 0.00020165355918531992),\n",
        "        ('challenged', 0.00020165355918531992),\n",
        "        ('theology', 0.00020165355918531975),\n",
        "        ('alone', 0.00020165355918531975),\n",
        "        ('teaching', 0.00020165355918531975),\n",
        "        ('bible', 0.00020165355918531975),\n",
        "        ('knowledge', 0.00020165355918531975),\n",
        "        ('peter', 0.00020165355918531975),\n",
        "        ('justify', 0.00020165355918531975),\n",
        "        ('source', 0.00020165355918531975),\n",
        "        ('man', 0.00020165355918531975), ('roman', 0.00020165355918531975),\n",
        "        ('divinely', 0.00020165355918531975),\n",
        "        ('faith', 0.00020165355918531975),\n",
        "        ('revealed', 0.00020165355918531975),\n",
        "        ('stated', 0.00020165355918531975),\n",
        "        ('augustine', 0.00020165355918531544)],\n",
        "       [('catholic', 0.09879280610987926), ('church', 0.09879280610987926),\n",
        "        ('pope', 0.0741561961074156), ('theology', 0.04951958610495194),\n",
        "        ('augustine', 0.04951958610495194), ('roman', 0.04951958610495194),\n",
        "        ('model', 0.02488297610248829), ('man', 0.02488297610248829),\n",
        "        ('bible', 0.02488297610248829), ('boniface', 0.02488297610248829),\n",
        "        ('viii', 0.02488297610248829), ('challenged', 0.02488297610248829),\n",
        "        ('peter', 0.02488297610248829), ('justify', 0.02488297610248829),\n",
        "        ('held', 0.02488297610248829), ('faith', 0.02488297610248829),\n",
        "        ('doctor', 0.02488297610248829), ('divinely', 0.02488297610248829),\n",
        "        ('knowledge', 0.02488297610248829), ('alone', 0.02488297610248829),\n",
        "        ('recognized', 0.02488297610248829),\n",
        "        ('saint', 0.02488297610248829), ('teaching', 0.02488297610248829),\n",
        "        ('teacher', 0.02488297610248829),\n",
        "        ('successor', 0.02488297610248829),\n",
        "        ('source', 0.02488297610248829), ('stated', 0.02488297610248829),\n",
        "        ('revealed', 0.02488297610248829),\n",
        "        ('regarded', 0.02488297610248829),\n",
        "        ('algorithmically', 0.00024636610002463677),\n",
        "        ('calculus', 0.00024636610002463677),\n",
        "        ('simulate', 0.00024636610002463677),\n",
        "        ('states', 0.00024636610002463677),\n",
        "        ('introduced', 0.00024636610002463677),\n",
        "        ('function', 0.00024636610002463677),\n",
        "        ('thesis', 0.00024636610002463677),\n",
        "        ('connections', 0.00024636610002463656),\n",
        "        ('american', 0.00024636610002463656),\n",
        "        ('close', 0.00024636610002463656),\n",
        "        ('alonzo', 0.00024636610002463656),\n",
        "        ('algorithm', 0.00024636610002463656),\n",
        "        ('computer', 0.00024636610002463656),\n",
        "        ('logic', 0.00024636610002463656),\n",
        "        ('contributions', 0.00024636610002463656),\n",
        "        ('foundations', 0.00024636610002463656),\n",
        "        ('investigation', 0.00024636610002463656),\n",
        "        ('lambda', 0.00024636610002463656),\n",
        "        ('turing', 0.00024636610002463656),\n",
        "        ('logician', 0.00024636610002463656),\n",
        "        ('machine', 0.00024636610002463656),\n",
        "        ('made', 0.00024636610002463656),\n",
        "        ('major', 0.00024636610002463656),\n",
        "        ('mathematical', 0.00024636610002463656),\n",
        "        ('mathematician', 0.00024636610002463656),\n",
        "        ('mathematics', 0.00024636610002463656),\n",
        "        ('science', 0.00024636610002463656),\n",
        "        ('theoretical', 0.00024636610002463656),\n",
        "        ('adapted', 0.00024636610002463656),\n",
        "        ('computable', 0.0002463661000246313)]], \n",
        "      dtype=[('word', '|S15'), ('value', '<f8')])"
       ]
      }
     ],
     "prompt_number": 6
    },
    {
     "cell_type": "code",
     "collapsed": false,
     "input": [
      "v.dist_doc_doc(dict(document_label='Ecclesiastical 3'))"
     ],
     "language": "python",
     "metadata": {},
     "outputs": [
      {
       "html": [
        "<table style=\"margin: 0\"><tr><th style=\"text-align: center; background: #CEE3F6\" colspan                    =\"2\">Documents: </th></tr><tr><th style=\"text-align: center; background: #EFF2FB; \">Document                          </th><th style=\"text-align: center; background: #EFF2FB; \">Distance                          </th></tr><tr><td>Ecclesiastical 3     </td><td>0.00000   </td></tr><tr><td>Ecclesiastical 5     </td><td>0.00000   </td></tr><tr><td>Ecclesiastical 4     </td><td>0.00207   </td></tr><tr><td>Ecclesiastical 2     </td><td>0.00256   </td></tr><tr><td>Ecclesiastical 1     </td><td>0.00754   </td></tr><tr><td>Logic 5              </td><td>0.99221   </td></tr><tr><td>Logic 4              </td><td>0.99297   </td></tr><tr><td>Logic 2              </td><td>0.99297   </td></tr><tr><td>Logic 3              </td><td>0.99325   </td></tr><tr><td>Logic 1              </td><td>0.99398   </td></tr></table>"
       ],
       "metadata": {},
       "output_type": "pyout",
       "prompt_number": 7,
       "text": [
        "LabeledColumn([('Ecclesiastical 3', 0.0), ('Ecclesiastical 5', 0.0),\n",
        "       ('Ecclesiastical 4', 0.002065988297172851),\n",
        "       ('Ecclesiastical 2', 0.002561532434347629),\n",
        "       ('Ecclesiastical 1', 0.007539933660187026),\n",
        "       ('Logic 5', 0.992208252445885), ('Logic 4', 0.992974054340914),\n",
        "       ('Logic 2', 0.9929740543409141), ('Logic 3', 0.9932494872489327),\n",
        "       ('Logic 1', 0.9939798430010864)], \n",
        "      dtype=[('doc', '|S16'), ('value', '<f8')])"
       ]
      }
     ],
     "prompt_number": 7
    },
    {
     "cell_type": "code",
     "collapsed": false,
     "input": [
      "v.dist_top_doc([0,1])"
     ],
     "language": "python",
     "metadata": {},
     "outputs": [
      {
       "html": [
        "<table style=\"margin: 0\"><tr><th style=\"text-align: center; background: #CEE3F6\" colspan                    =\"2\">Topics: 0, 1</th></tr><tr><th style=\"text-align: center; background: #EFF2FB; \">Document                          </th><th style=\"text-align: center; background: #EFF2FB; \">Distance                          </th></tr><tr><td>Ecclesiastical 2     </td><td>0.55111   </td></tr><tr><td>Logic 5              </td><td>0.55195   </td></tr><tr><td>Ecclesiastical 3     </td><td>0.55195   </td></tr><tr><td>Ecclesiastical 5     </td><td>0.55195   </td></tr><tr><td>Ecclesiastical 4     </td><td>0.55259   </td></tr><tr><td>Logic 2              </td><td>0.55310   </td></tr><tr><td>Logic 4              </td><td>0.55310   </td></tr><tr><td>Logic 3              </td><td>0.55351   </td></tr><tr><td>Ecclesiastical 1     </td><td>0.55415   </td></tr><tr><td>Logic 1              </td><td>0.55462   </td></tr></table>"
       ],
       "metadata": {},
       "output_type": "pyout",
       "prompt_number": 8,
       "text": [
        "LabeledColumn([('Ecclesiastical 2', 0.5511129750477453),\n",
        "       ('Logic 5', 0.5519453530845314),\n",
        "       ('Ecclesiastical 3', 0.5519453530845315),\n",
        "       ('Ecclesiastical 5', 0.5519453530845315),\n",
        "       ('Ecclesiastical 4', 0.5525859764901941),\n",
        "       ('Logic 2', 0.5530953459056704), ('Logic 4', 0.5530953459056704),\n",
        "       ('Logic 3', 0.5535107346714779),\n",
        "       ('Ecclesiastical 1', 0.5541488721986697),\n",
        "       ('Logic 1', 0.5546174996468003)], \n",
        "      dtype=[('doc', '|S16'), ('value', '<f8')])"
       ]
      }
     ],
     "prompt_number": 8
    },
    {
     "cell_type": "code",
     "collapsed": false,
     "input": [
      "v.dist_word_top('church')"
     ],
     "language": "python",
     "metadata": {},
     "outputs": [
      {
       "html": [
        "<table style=\"margin: 0\"><tr><th style=\"text-align: center; background: #CEE3F6\" colspan            =\"11\">Sorted by Topic Distance</th></tr><tr><th style=\"text-align: center; background: #EFF2FB;\"                     >Topic</th><th style=\"text-align: center; background: #EFF2FB;\"                     >Words</th></tr><tr><td style=\"padding-left:0.75em;\">1</td><td> catholic, church, pope, theology, augustine, roman, model, man, bible, boniface         </td></tr><tr><td style=\"padding-left:0.75em;\">0</td><td> logic, turing, foundations, church, computer, computable, mathematical, mathematician, mathematics, science          </td></tr></table>"
       ],
       "metadata": {},
       "output_type": "pyout",
       "prompt_number": 9,
       "text": [
        "CompactTable([[('catholic', 0.09879280610987926), ('church', 0.09879280610987926),\n",
        "        ('pope', 0.0741561961074156), ('theology', 0.04951958610495194),\n",
        "        ('augustine', 0.04951958610495194), ('roman', 0.04951958610495194),\n",
        "        ('model', 0.02488297610248829), ('man', 0.02488297610248829),\n",
        "        ('bible', 0.02488297610248829), ('boniface', 0.02488297610248829),\n",
        "        ('viii', 0.02488297610248829), ('challenged', 0.02488297610248829),\n",
        "        ('peter', 0.02488297610248829), ('justify', 0.02488297610248829),\n",
        "        ('held', 0.02488297610248829), ('faith', 0.02488297610248829),\n",
        "        ('doctor', 0.02488297610248829), ('divinely', 0.02488297610248829),\n",
        "        ('knowledge', 0.02488297610248829), ('alone', 0.02488297610248829),\n",
        "        ('recognized', 0.02488297610248829),\n",
        "        ('saint', 0.02488297610248829), ('teaching', 0.02488297610248829),\n",
        "        ('teacher', 0.02488297610248829),\n",
        "        ('successor', 0.02488297610248829),\n",
        "        ('source', 0.02488297610248829), ('stated', 0.02488297610248829),\n",
        "        ('revealed', 0.02488297610248829),\n",
        "        ('regarded', 0.02488297610248829),\n",
        "        ('algorithmically', 0.00024636610002463677),\n",
        "        ('calculus', 0.00024636610002463677),\n",
        "        ('simulate', 0.00024636610002463677),\n",
        "        ('states', 0.00024636610002463677),\n",
        "        ('introduced', 0.00024636610002463677),\n",
        "        ('function', 0.00024636610002463677),\n",
        "        ('thesis', 0.00024636610002463677),\n",
        "        ('connections', 0.00024636610002463656),\n",
        "        ('american', 0.00024636610002463656),\n",
        "        ('close', 0.00024636610002463656),\n",
        "        ('alonzo', 0.00024636610002463656),\n",
        "        ('algorithm', 0.00024636610002463656),\n",
        "        ('computer', 0.00024636610002463656),\n",
        "        ('logic', 0.00024636610002463656),\n",
        "        ('contributions', 0.00024636610002463656),\n",
        "        ('foundations', 0.00024636610002463656),\n",
        "        ('investigation', 0.00024636610002463656),\n",
        "        ('lambda', 0.00024636610002463656),\n",
        "        ('turing', 0.00024636610002463656),\n",
        "        ('logician', 0.00024636610002463656),\n",
        "        ('machine', 0.00024636610002463656),\n",
        "        ('made', 0.00024636610002463656),\n",
        "        ('major', 0.00024636610002463656),\n",
        "        ('mathematical', 0.00024636610002463656),\n",
        "        ('mathematician', 0.00024636610002463656),\n",
        "        ('mathematics', 0.00024636610002463656),\n",
        "        ('science', 0.00024636610002463656),\n",
        "        ('theoretical', 0.00024636610002463656),\n",
        "        ('adapted', 0.00024636610002463656),\n",
        "        ('computable', 0.0002463661000246313)],\n",
        "       [('logic', 0.06069772131478124), ('turing', 0.06069772131478124),\n",
        "        ('foundations', 0.06069772131478124),\n",
        "        ('church', 0.06069772131478124), ('computer', 0.06069772131478124),\n",
        "        ('computable', 0.04053236539624926),\n",
        "        ('mathematical', 0.04053236539624926),\n",
        "        ('mathematician', 0.04053236539624926),\n",
        "        ('mathematics', 0.04053236539624926),\n",
        "        ('science', 0.04053236539624926), ('machine', 0.04053236539624926),\n",
        "        ('alonzo', 0.04053236539624926),\n",
        "        ('theoretical', 0.04053236539624926),\n",
        "        ('close', 0.020367009477717295),\n",
        "        ('calculus', 0.020367009477717295), ('made', 0.020367009477717295),\n",
        "        ('contributions', 0.020367009477717295),\n",
        "        ('american', 0.020367009477717295),\n",
        "        ('function', 0.020367009477717295),\n",
        "        ('introduced', 0.020367009477717295),\n",
        "        ('investigation', 0.020367009477717295),\n",
        "        ('lambda', 0.020367009477717295),\n",
        "        ('algorithmically', 0.020367009477717295),\n",
        "        ('algorithm', 0.020367009477717295),\n",
        "        ('logician', 0.020367009477717295),\n",
        "        ('connections', 0.020367009477717295),\n",
        "        ('adapted', 0.020367009477717295), ('major', 0.020367009477717295),\n",
        "        ('states', 0.020367009477717295), ('thesis', 0.020367009477717295),\n",
        "        ('simulate', 0.020367009477717295),\n",
        "        ('viii', 0.00020165355918531992),\n",
        "        ('catholic', 0.00020165355918531992),\n",
        "        ('successor', 0.00020165355918531992),\n",
        "        ('boniface', 0.00020165355918531992),\n",
        "        ('teacher', 0.00020165355918531992),\n",
        "        ('saint', 0.00020165355918531992),\n",
        "        ('doctor', 0.00020165355918531992),\n",
        "        ('model', 0.00020165355918531992),\n",
        "        ('regarded', 0.00020165355918531992),\n",
        "        ('held', 0.00020165355918531992),\n",
        "        ('recognized', 0.00020165355918531992),\n",
        "        ('pope', 0.00020165355918531992),\n",
        "        ('challenged', 0.00020165355918531992),\n",
        "        ('theology', 0.00020165355918531975),\n",
        "        ('alone', 0.00020165355918531975),\n",
        "        ('teaching', 0.00020165355918531975),\n",
        "        ('bible', 0.00020165355918531975),\n",
        "        ('knowledge', 0.00020165355918531975),\n",
        "        ('peter', 0.00020165355918531975),\n",
        "        ('justify', 0.00020165355918531975),\n",
        "        ('source', 0.00020165355918531975),\n",
        "        ('man', 0.00020165355918531975), ('roman', 0.00020165355918531975),\n",
        "        ('divinely', 0.00020165355918531975),\n",
        "        ('faith', 0.00020165355918531975),\n",
        "        ('revealed', 0.00020165355918531975),\n",
        "        ('stated', 0.00020165355918531975),\n",
        "        ('augustine', 0.00020165355918531544)]], \n",
        "      dtype=[('word', '|S15'), ('value', '<f8')])"
       ]
      }
     ],
     "prompt_number": 9
    },
    {
     "cell_type": "code",
     "collapsed": false,
     "input": [
      "v.dist_word_top('logic')"
     ],
     "language": "python",
     "metadata": {},
     "outputs": [
      {
       "html": [
        "<table style=\"margin: 0\"><tr><th style=\"text-align: center; background: #CEE3F6\" colspan            =\"11\">Sorted by Topic Distance</th></tr><tr><th style=\"text-align: center; background: #EFF2FB;\"                     >Topic</th><th style=\"text-align: center; background: #EFF2FB;\"                     >Words</th></tr><tr><td style=\"padding-left:0.75em;\">0</td><td> logic, turing, foundations, church, computer, computable, mathematical, mathematician, mathematics, science          </td></tr></table>"
       ],
       "metadata": {},
       "output_type": "pyout",
       "prompt_number": 10,
       "text": [
        "CompactTable([[('logic', 0.06069772131478124), ('turing', 0.06069772131478124),\n",
        "        ('foundations', 0.06069772131478124),\n",
        "        ('church', 0.06069772131478124), ('computer', 0.06069772131478124),\n",
        "        ('computable', 0.04053236539624926),\n",
        "        ('mathematical', 0.04053236539624926),\n",
        "        ('mathematician', 0.04053236539624926),\n",
        "        ('mathematics', 0.04053236539624926),\n",
        "        ('science', 0.04053236539624926), ('machine', 0.04053236539624926),\n",
        "        ('alonzo', 0.04053236539624926),\n",
        "        ('theoretical', 0.04053236539624926),\n",
        "        ('close', 0.020367009477717295),\n",
        "        ('calculus', 0.020367009477717295), ('made', 0.020367009477717295),\n",
        "        ('contributions', 0.020367009477717295),\n",
        "        ('american', 0.020367009477717295),\n",
        "        ('function', 0.020367009477717295),\n",
        "        ('introduced', 0.020367009477717295),\n",
        "        ('investigation', 0.020367009477717295),\n",
        "        ('lambda', 0.020367009477717295),\n",
        "        ('algorithmically', 0.020367009477717295),\n",
        "        ('algorithm', 0.020367009477717295),\n",
        "        ('logician', 0.020367009477717295),\n",
        "        ('connections', 0.020367009477717295),\n",
        "        ('adapted', 0.020367009477717295), ('major', 0.020367009477717295),\n",
        "        ('states', 0.020367009477717295), ('thesis', 0.020367009477717295),\n",
        "        ('simulate', 0.020367009477717295),\n",
        "        ('viii', 0.00020165355918531992),\n",
        "        ('catholic', 0.00020165355918531992),\n",
        "        ('successor', 0.00020165355918531992),\n",
        "        ('boniface', 0.00020165355918531992),\n",
        "        ('teacher', 0.00020165355918531992),\n",
        "        ('saint', 0.00020165355918531992),\n",
        "        ('doctor', 0.00020165355918531992),\n",
        "        ('model', 0.00020165355918531992),\n",
        "        ('regarded', 0.00020165355918531992),\n",
        "        ('held', 0.00020165355918531992),\n",
        "        ('recognized', 0.00020165355918531992),\n",
        "        ('pope', 0.00020165355918531992),\n",
        "        ('challenged', 0.00020165355918531992),\n",
        "        ('theology', 0.00020165355918531975),\n",
        "        ('alone', 0.00020165355918531975),\n",
        "        ('teaching', 0.00020165355918531975),\n",
        "        ('bible', 0.00020165355918531975),\n",
        "        ('knowledge', 0.00020165355918531975),\n",
        "        ('peter', 0.00020165355918531975),\n",
        "        ('justify', 0.00020165355918531975),\n",
        "        ('source', 0.00020165355918531975),\n",
        "        ('man', 0.00020165355918531975), ('roman', 0.00020165355918531975),\n",
        "        ('divinely', 0.00020165355918531975),\n",
        "        ('faith', 0.00020165355918531975),\n",
        "        ('revealed', 0.00020165355918531975),\n",
        "        ('stated', 0.00020165355918531975),\n",
        "        ('augustine', 0.00020165355918531544)]], \n",
        "      dtype=[('word', '|S15'), ('value', '<f8')])"
       ]
      }
     ],
     "prompt_number": 10
    },
    {
     "cell_type": "code",
     "collapsed": false,
     "input": [
      "v.dismat_top()"
     ],
     "language": "python",
     "metadata": {},
     "outputs": [
      {
       "metadata": {},
       "output_type": "pyout",
       "prompt_number": 11,
       "text": [
        "IndexedSymmArray([[ 0.        ,  0.93196539],\n",
        "       [ 0.93196539,  0.        ]])"
       ]
      }
     ],
     "prompt_number": 11
    },
    {
     "cell_type": "code",
     "collapsed": false,
     "input": [
      "v.dismat_top().labels"
     ],
     "language": "python",
     "metadata": {},
     "outputs": [
      {
       "metadata": {},
       "output_type": "pyout",
       "prompt_number": 12,
       "text": [
        "['0', '1']"
       ]
      }
     ],
     "prompt_number": 12
    },
    {
     "cell_type": "code",
     "collapsed": false,
     "input": [
      "np.around(v.dismat_doc(), decimals=1)"
     ],
     "language": "python",
     "metadata": {},
     "outputs": [
      {
       "metadata": {},
       "output_type": "pyout",
       "prompt_number": 13,
       "text": [
        "array([[ 0.,  0.,  0.,  0.,  0.,  1.,  1.,  1.,  1.,  1.],\n",
        "       [ 0.,  0.,  0.,  0.,  0.,  1.,  1.,  1.,  1.,  1.],\n",
        "       [ 0.,  0.,  0.,  0.,  0.,  1.,  1.,  1.,  1.,  1.],\n",
        "       [ 0.,  0.,  0.,  0.,  0.,  1.,  1.,  1.,  1.,  1.],\n",
        "       [ 0.,  0.,  0.,  0.,  0.,  1.,  1.,  1.,  1.,  1.],\n",
        "       [ 1.,  1.,  1.,  1.,  1.,  0.,  0.,  0.,  0.,  0.],\n",
        "       [ 1.,  1.,  1.,  1.,  1.,  0.,  0.,  0.,  0.,  0.],\n",
        "       [ 1.,  1.,  1.,  1.,  1.,  0.,  0.,  0.,  0.,  0.],\n",
        "       [ 1.,  1.,  1.,  1.,  1.,  0.,  0.,  0.,  0.,  0.],\n",
        "       [ 1.,  1.,  1.,  1.,  1.,  0.,  0.,  0.,  0.,  0.]])"
       ]
      }
     ],
     "prompt_number": 13
    },
    {
     "cell_type": "code",
     "collapsed": false,
     "input": [
      "v.dismat_doc().labels"
     ],
     "language": "python",
     "metadata": {},
     "outputs": [
      {
       "metadata": {},
       "output_type": "pyout",
       "prompt_number": 14,
       "text": [
        "array(['0', '1', '2', '3', '4', '5', '6', '7', '8', '9'], \n",
        "      dtype='|S1')"
       ]
      }
     ],
     "prompt_number": 14
    },
    {
     "cell_type": "code",
     "collapsed": false,
     "input": [
      "%matplotlib inline"
     ],
     "language": "python",
     "metadata": {},
     "outputs": [],
     "prompt_number": 15
    },
    {
     "cell_type": "code",
     "collapsed": false,
     "input": [
      "p1 = v.logp_plot()"
     ],
     "language": "python",
     "metadata": {},
     "outputs": [
      {
       "metadata": {},
       "output_type": "display_data",
       "png": "[encoded data removed]",
       "text": [
        "<matplotlib.figure.Figure at 0x244cf50>"
       ]
      }
     ],
     "prompt_number": 16
    },
    {
     "cell_type": "code",
     "collapsed": false,
     "input": [
      "p2 = v.topic_hist()"
     ],
     "language": "python",
     "metadata": {},
     "outputs": [
      {
       "metadata": {},
       "output_type": "display_data",
       "png": "[encoded data removed]",
       "text": [
        "<matplotlib.figure.Figure at 0x244c710>"
       ]
      }
     ],
     "prompt_number": 17
    }
   ],
   "metadata": {}
  }
 ]
}